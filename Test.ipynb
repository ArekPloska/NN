{
  "nbformat": 4,
  "nbformat_minor": 0,
  "metadata": {
    "colab": {
      "provenance": [],
      "authorship_tag": "ABX9TyO0CVBipNRZdiLXg27B5NRw",
      "include_colab_link": true
    },
    "kernelspec": {
      "name": "python3",
      "display_name": "Python 3"
    },
    "language_info": {
      "name": "python"
    }
  },
  "cells": [
    {
      "cell_type": "markdown",
      "metadata": {
        "id": "view-in-github",
        "colab_type": "text"
      },
      "source": [
        "<a href=\"https://colab.research.google.com/github/ArekPloska/NN/blob/main/Test.ipynb\" target=\"_parent\"><img src=\"https://colab.research.google.com/assets/colab-badge.svg\" alt=\"Open In Colab\"/></a>"
      ]
    },
    {
      "cell_type": "code",
      "execution_count": 1,
      "metadata": {
        "id": "veyl0OC0X6Cr"
      },
      "outputs": [],
      "source": [
        "from sklearn.datasets import make_classification"
      ]
    },
    {
      "cell_type": "code",
      "source": [
        "X, y = make_classification(n_samples=25000, n_classes=2, n_features=50, n_informative=50, n_redundant=0)"
      ],
      "metadata": {
        "id": "c-MqjlUeX6j_"
      },
      "execution_count": 2,
      "outputs": []
    },
    {
      "cell_type": "code",
      "source": [
        "X.shape, y.shape"
      ],
      "metadata": {
        "colab": {
          "base_uri": "https://localhost:8080/"
        },
        "id": "l4ToRds0YrTW",
        "outputId": "67f7f4e3-9abb-43b5-f945-2d383824ccc9"
      },
      "execution_count": 3,
      "outputs": [
        {
          "output_type": "execute_result",
          "data": {
            "text/plain": [
              "((25000, 50), (25000,))"
            ]
          },
          "metadata": {},
          "execution_count": 3
        }
      ]
    },
    {
      "cell_type": "code",
      "source": [
        "from tensorflow import keras"
      ],
      "metadata": {
        "id": "ps6ALzIEYskU"
      },
      "execution_count": 4,
      "outputs": []
    },
    {
      "cell_type": "code",
      "source": [
        "model = keras.Sequential()\n",
        "model.add(keras.layers.Input(X.shape[1]))\n",
        "model.add(keras.layers.Dense(64, activation='tanh'))\n",
        "model.add(keras.layers.Dense(16, activation='tanh'))\n",
        "model.add(keras.layers.Dense(8, activation='tanh'))\n",
        "model.add(keras.layers.Dense(1, activation='sigmoid'))"
      ],
      "metadata": {
        "id": "GVrDmY9-Y216"
      },
      "execution_count": 6,
      "outputs": []
    },
    {
      "cell_type": "code",
      "source": [
        "model.summary()"
      ],
      "metadata": {
        "id": "VC8bQPFdZHa_",
        "outputId": "008355f9-ccbb-4a07-8f55-7578d9d6a19a",
        "colab": {
          "base_uri": "https://localhost:8080/"
        }
      },
      "execution_count": 8,
      "outputs": [
        {
          "output_type": "stream",
          "name": "stdout",
          "text": [
            "Model: \"sequential_1\"\n",
            "_________________________________________________________________\n",
            " Layer (type)                Output Shape              Param #   \n",
            "=================================================================\n",
            " dense (Dense)               (None, 64)                3264      \n",
            "                                                                 \n",
            " dense_1 (Dense)             (None, 16)                1040      \n",
            "                                                                 \n",
            " dense_2 (Dense)             (None, 8)                 136       \n",
            "                                                                 \n",
            " dense_3 (Dense)             (None, 1)                 9         \n",
            "                                                                 \n",
            "=================================================================\n",
            "Total params: 4,449\n",
            "Trainable params: 4,449\n",
            "Non-trainable params: 0\n",
            "_________________________________________________________________\n"
          ]
        }
      ]
    },
    {
      "cell_type": "code",
      "source": [
        "model_sgd = keras.models.clone_model(model)\n",
        "model_sgd_momentum = keras.models.clone_model(model)\n",
        "model_adam = keras.models.clone_model(model)"
      ],
      "metadata": {
        "id": "Cm2k-fWBZt_w"
      },
      "execution_count": 9,
      "outputs": []
    },
    {
      "cell_type": "code",
      "source": [
        "model_sgd.compile(loss='mse', optimizer='sgd')\n",
        "model_sgd_history = model_sgd.fit(X, y, epochs=100)"
      ],
      "metadata": {
        "id": "SPGWSIP6axSJ",
        "outputId": "dffb6f77-1fdf-4455-875a-90b297385228",
        "colab": {
          "base_uri": "https://localhost:8080/"
        }
      },
      "execution_count": 11,
      "outputs": [
        {
          "output_type": "stream",
          "name": "stdout",
          "text": [
            "Epoch 1/100\n",
            "782/782 [==============================] - 1s 945us/step - loss: 0.2028\n",
            "Epoch 2/100\n",
            "782/782 [==============================] - 1s 931us/step - loss: 0.1353\n",
            "Epoch 3/100\n",
            "782/782 [==============================] - 1s 947us/step - loss: 0.1142\n",
            "Epoch 4/100\n",
            "782/782 [==============================] - 1s 943us/step - loss: 0.1058\n",
            "Epoch 5/100\n",
            "782/782 [==============================] - 1s 920us/step - loss: 0.1008\n",
            "Epoch 6/100\n",
            "782/782 [==============================] - 1s 914us/step - loss: 0.0969\n",
            "Epoch 7/100\n",
            "782/782 [==============================] - 1s 897us/step - loss: 0.0935\n",
            "Epoch 8/100\n",
            "782/782 [==============================] - 1s 931us/step - loss: 0.0904\n",
            "Epoch 9/100\n",
            "782/782 [==============================] - 1s 896us/step - loss: 0.0872\n",
            "Epoch 10/100\n",
            "782/782 [==============================] - 1s 908us/step - loss: 0.0841\n",
            "Epoch 11/100\n",
            "782/782 [==============================] - 1s 937us/step - loss: 0.0810\n",
            "Epoch 12/100\n",
            "782/782 [==============================] - 1s 913us/step - loss: 0.0778\n",
            "Epoch 13/100\n",
            "782/782 [==============================] - 1s 917us/step - loss: 0.0746\n",
            "Epoch 14/100\n",
            "782/782 [==============================] - 1s 913us/step - loss: 0.0714\n",
            "Epoch 15/100\n",
            "782/782 [==============================] - 1s 923us/step - loss: 0.0683\n",
            "Epoch 16/100\n",
            "782/782 [==============================] - 1s 924us/step - loss: 0.0652\n",
            "Epoch 17/100\n",
            "782/782 [==============================] - 1s 919us/step - loss: 0.0621\n",
            "Epoch 18/100\n",
            "782/782 [==============================] - 1s 898us/step - loss: 0.0590\n",
            "Epoch 19/100\n",
            "782/782 [==============================] - 1s 914us/step - loss: 0.0561\n",
            "Epoch 20/100\n",
            "782/782 [==============================] - 1s 1ms/step - loss: 0.0532\n",
            "Epoch 21/100\n",
            "782/782 [==============================] - 1s 1ms/step - loss: 0.0505\n",
            "Epoch 22/100\n",
            "782/782 [==============================] - 1s 1ms/step - loss: 0.0479\n",
            "Epoch 23/100\n",
            "782/782 [==============================] - 1s 921us/step - loss: 0.0454\n",
            "Epoch 24/100\n",
            "782/782 [==============================] - 1s 1ms/step - loss: 0.0431\n",
            "Epoch 25/100\n",
            "782/782 [==============================] - 1s 1ms/step - loss: 0.0408\n",
            "Epoch 26/100\n",
            "782/782 [==============================] - 1s 1ms/step - loss: 0.0386\n",
            "Epoch 27/100\n",
            "782/782 [==============================] - 1s 1ms/step - loss: 0.0366\n",
            "Epoch 28/100\n",
            "782/782 [==============================] - 1s 1ms/step - loss: 0.0345\n",
            "Epoch 29/100\n",
            "782/782 [==============================] - 1s 953us/step - loss: 0.0326\n",
            "Epoch 30/100\n",
            "782/782 [==============================] - 1s 981us/step - loss: 0.0310\n",
            "Epoch 31/100\n",
            "782/782 [==============================] - 1s 1ms/step - loss: 0.0293\n",
            "Epoch 32/100\n",
            "782/782 [==============================] - 1s 918us/step - loss: 0.0279\n",
            "Epoch 33/100\n",
            "782/782 [==============================] - 1s 1ms/step - loss: 0.0266\n",
            "Epoch 34/100\n",
            "782/782 [==============================] - 1s 901us/step - loss: 0.0254\n",
            "Epoch 35/100\n",
            "782/782 [==============================] - 1s 919us/step - loss: 0.0242\n",
            "Epoch 36/100\n",
            "782/782 [==============================] - 1s 1ms/step - loss: 0.0231\n",
            "Epoch 37/100\n",
            "782/782 [==============================] - 1s 1ms/step - loss: 0.0222\n",
            "Epoch 38/100\n",
            "782/782 [==============================] - 1s 896us/step - loss: 0.0213\n",
            "Epoch 39/100\n",
            "782/782 [==============================] - 1s 932us/step - loss: 0.0205\n",
            "Epoch 40/100\n",
            "782/782 [==============================] - 1s 936us/step - loss: 0.0197\n",
            "Epoch 41/100\n",
            "782/782 [==============================] - 1s 953us/step - loss: 0.0190\n",
            "Epoch 42/100\n",
            "782/782 [==============================] - 1s 915us/step - loss: 0.0183\n",
            "Epoch 43/100\n",
            "782/782 [==============================] - 1s 1ms/step - loss: 0.0177\n",
            "Epoch 44/100\n",
            "782/782 [==============================] - 1s 1ms/step - loss: 0.0171\n",
            "Epoch 45/100\n",
            "782/782 [==============================] - 1s 1ms/step - loss: 0.0166\n",
            "Epoch 46/100\n",
            "782/782 [==============================] - 1s 1ms/step - loss: 0.0161\n",
            "Epoch 47/100\n",
            "782/782 [==============================] - 1s 982us/step - loss: 0.0156\n",
            "Epoch 48/100\n",
            "782/782 [==============================] - 1s 1ms/step - loss: 0.0151\n",
            "Epoch 49/100\n",
            "782/782 [==============================] - 1s 1ms/step - loss: 0.0147\n",
            "Epoch 50/100\n",
            "782/782 [==============================] - 1s 1ms/step - loss: 0.0142\n",
            "Epoch 51/100\n",
            "782/782 [==============================] - 1s 924us/step - loss: 0.0139\n",
            "Epoch 52/100\n",
            "782/782 [==============================] - 1s 904us/step - loss: 0.0135\n",
            "Epoch 53/100\n",
            "782/782 [==============================] - 1s 926us/step - loss: 0.0132\n",
            "Epoch 54/100\n",
            "782/782 [==============================] - 1s 896us/step - loss: 0.0128\n",
            "Epoch 55/100\n",
            "782/782 [==============================] - 1s 1ms/step - loss: 0.0125\n",
            "Epoch 56/100\n",
            "782/782 [==============================] - 1s 895us/step - loss: 0.0122\n",
            "Epoch 57/100\n",
            "782/782 [==============================] - 1s 939us/step - loss: 0.0120\n",
            "Epoch 58/100\n",
            "782/782 [==============================] - 1s 923us/step - loss: 0.0117\n",
            "Epoch 59/100\n",
            "782/782 [==============================] - 1s 916us/step - loss: 0.0114\n",
            "Epoch 60/100\n",
            "782/782 [==============================] - 1s 1ms/step - loss: 0.0111\n",
            "Epoch 61/100\n",
            "782/782 [==============================] - 1s 1ms/step - loss: 0.0109\n",
            "Epoch 62/100\n",
            "782/782 [==============================] - 1s 932us/step - loss: 0.0106\n",
            "Epoch 63/100\n",
            "782/782 [==============================] - 1s 1ms/step - loss: 0.0104\n",
            "Epoch 64/100\n",
            "782/782 [==============================] - 1s 1ms/step - loss: 0.0102\n",
            "Epoch 65/100\n",
            "782/782 [==============================] - 1s 1ms/step - loss: 0.0100\n",
            "Epoch 66/100\n",
            "782/782 [==============================] - 1s 942us/step - loss: 0.0098\n",
            "Epoch 67/100\n",
            "782/782 [==============================] - 1s 1ms/step - loss: 0.0096\n",
            "Epoch 68/100\n",
            "782/782 [==============================] - 1s 934us/step - loss: 0.0095\n",
            "Epoch 69/100\n",
            "782/782 [==============================] - 1s 931us/step - loss: 0.0093\n",
            "Epoch 70/100\n",
            "782/782 [==============================] - 1s 1ms/step - loss: 0.0092\n",
            "Epoch 71/100\n",
            "782/782 [==============================] - 1s 965us/step - loss: 0.0090\n",
            "Epoch 72/100\n",
            "782/782 [==============================] - 1s 930us/step - loss: 0.0089\n",
            "Epoch 73/100\n",
            "782/782 [==============================] - 1s 1ms/step - loss: 0.0087\n",
            "Epoch 74/100\n",
            "782/782 [==============================] - 1s 1ms/step - loss: 0.0086\n",
            "Epoch 75/100\n",
            "782/782 [==============================] - 1s 883us/step - loss: 0.0085\n",
            "Epoch 76/100\n",
            "782/782 [==============================] - 1s 926us/step - loss: 0.0084\n",
            "Epoch 77/100\n",
            "782/782 [==============================] - 1s 922us/step - loss: 0.0083\n",
            "Epoch 78/100\n",
            "782/782 [==============================] - 1s 958us/step - loss: 0.0082\n",
            "Epoch 79/100\n",
            "782/782 [==============================] - 1s 918us/step - loss: 0.0081\n",
            "Epoch 80/100\n",
            "782/782 [==============================] - 1s 1ms/step - loss: 0.0080\n",
            "Epoch 81/100\n",
            "782/782 [==============================] - 1s 1ms/step - loss: 0.0079\n",
            "Epoch 82/100\n",
            "782/782 [==============================] - 1s 1ms/step - loss: 0.0079\n",
            "Epoch 83/100\n",
            "782/782 [==============================] - 1s 1ms/step - loss: 0.0078\n",
            "Epoch 84/100\n",
            "782/782 [==============================] - 1s 1ms/step - loss: 0.0077\n",
            "Epoch 85/100\n",
            "782/782 [==============================] - 1s 1ms/step - loss: 0.0076\n",
            "Epoch 86/100\n",
            "782/782 [==============================] - 1s 970us/step - loss: 0.0076\n",
            "Epoch 87/100\n",
            "782/782 [==============================] - 1s 945us/step - loss: 0.0075\n",
            "Epoch 88/100\n",
            "782/782 [==============================] - 1s 939us/step - loss: 0.0074\n",
            "Epoch 89/100\n",
            "782/782 [==============================] - 1s 948us/step - loss: 0.0073\n",
            "Epoch 90/100\n",
            "782/782 [==============================] - 1s 949us/step - loss: 0.0073\n",
            "Epoch 91/100\n",
            "782/782 [==============================] - 1s 890us/step - loss: 0.0072\n",
            "Epoch 92/100\n",
            "782/782 [==============================] - 1s 929us/step - loss: 0.0072\n",
            "Epoch 93/100\n",
            "782/782 [==============================] - 1s 940us/step - loss: 0.0071\n",
            "Epoch 94/100\n",
            "782/782 [==============================] - 1s 925us/step - loss: 0.0070\n",
            "Epoch 95/100\n",
            "782/782 [==============================] - 1s 911us/step - loss: 0.0070\n",
            "Epoch 96/100\n",
            "782/782 [==============================] - 1s 930us/step - loss: 0.0070\n",
            "Epoch 97/100\n",
            "782/782 [==============================] - 1s 948us/step - loss: 0.0069\n",
            "Epoch 98/100\n",
            "782/782 [==============================] - 1s 940us/step - loss: 0.0068\n",
            "Epoch 99/100\n",
            "782/782 [==============================] - 1s 933us/step - loss: 0.0068\n",
            "Epoch 100/100\n",
            "782/782 [==============================] - 1s 925us/step - loss: 0.0068\n"
          ]
        }
      ]
    },
    {
      "cell_type": "code",
      "source": [
        "model_sgd_momentum.compile(loss='mse', optimizer=keras.optimizers.SGD(momentum=0.9))\n",
        "model_sgd_momentum_history = model_sgd_momentum.fit(X, y, epochs=100)"
      ],
      "metadata": {
        "id": "nUj-dEI2a-Jo",
        "outputId": "c11a34a0-17ab-4f61-9b0b-fbfce9090f79",
        "colab": {
          "base_uri": "https://localhost:8080/"
        }
      },
      "execution_count": 13,
      "outputs": [
        {
          "output_type": "stream",
          "name": "stdout",
          "text": [
            "Epoch 1/100\n",
            "782/782 [==============================] - 1s 986us/step - loss: 0.1138\n",
            "Epoch 2/100\n",
            "782/782 [==============================] - 1s 950us/step - loss: 0.0641\n",
            "Epoch 3/100\n",
            "782/782 [==============================] - 1s 977us/step - loss: 0.0454\n",
            "Epoch 4/100\n",
            "782/782 [==============================] - 1s 950us/step - loss: 0.0335\n",
            "Epoch 5/100\n",
            "782/782 [==============================] - 1s 940us/step - loss: 0.0263\n",
            "Epoch 6/100\n",
            "782/782 [==============================] - 1s 933us/step - loss: 0.0214\n",
            "Epoch 7/100\n",
            "782/782 [==============================] - 1s 954us/step - loss: 0.0186\n",
            "Epoch 8/100\n",
            "782/782 [==============================] - 1s 969us/step - loss: 0.0156\n",
            "Epoch 9/100\n",
            "782/782 [==============================] - 1s 935us/step - loss: 0.0134\n",
            "Epoch 10/100\n",
            "782/782 [==============================] - 1s 937us/step - loss: 0.0118\n",
            "Epoch 11/100\n",
            "782/782 [==============================] - 1s 935us/step - loss: 0.0103\n",
            "Epoch 12/100\n",
            "782/782 [==============================] - 1s 963us/step - loss: 0.0091\n",
            "Epoch 13/100\n",
            "782/782 [==============================] - 1s 958us/step - loss: 0.0077\n",
            "Epoch 14/100\n",
            "782/782 [==============================] - 1s 963us/step - loss: 0.0070\n",
            "Epoch 15/100\n",
            "782/782 [==============================] - 1s 946us/step - loss: 0.0060\n",
            "Epoch 16/100\n",
            "782/782 [==============================] - 1s 937us/step - loss: 0.0056\n",
            "Epoch 17/100\n",
            "782/782 [==============================] - 1s 934us/step - loss: 0.0054\n",
            "Epoch 18/100\n",
            "782/782 [==============================] - 1s 935us/step - loss: 0.0051\n",
            "Epoch 19/100\n",
            "782/782 [==============================] - 1s 938us/step - loss: 0.0048\n",
            "Epoch 20/100\n",
            "782/782 [==============================] - 1s 932us/step - loss: 0.0046\n",
            "Epoch 21/100\n",
            "782/782 [==============================] - 1s 939us/step - loss: 0.0046\n",
            "Epoch 22/100\n",
            "782/782 [==============================] - 1s 955us/step - loss: 0.0045\n",
            "Epoch 23/100\n",
            "782/782 [==============================] - 1s 937us/step - loss: 0.0045\n",
            "Epoch 24/100\n",
            "782/782 [==============================] - 1s 918us/step - loss: 0.0044\n",
            "Epoch 25/100\n",
            "782/782 [==============================] - 1s 937us/step - loss: 0.0044\n",
            "Epoch 26/100\n",
            "782/782 [==============================] - 1s 945us/step - loss: 0.0043\n",
            "Epoch 27/100\n",
            "782/782 [==============================] - 1s 970us/step - loss: 0.0042\n",
            "Epoch 28/100\n",
            "782/782 [==============================] - 1s 918us/step - loss: 0.0042\n",
            "Epoch 29/100\n",
            "782/782 [==============================] - 1s 982us/step - loss: 0.0042\n",
            "Epoch 30/100\n",
            "782/782 [==============================] - 1s 947us/step - loss: 0.0041\n",
            "Epoch 31/100\n",
            "782/782 [==============================] - 1s 947us/step - loss: 0.0041\n",
            "Epoch 32/100\n",
            "782/782 [==============================] - 1s 998us/step - loss: 0.0041\n",
            "Epoch 33/100\n",
            "782/782 [==============================] - 1s 1ms/step - loss: 0.0041\n",
            "Epoch 34/100\n",
            "782/782 [==============================] - 1s 1ms/step - loss: 0.0041\n",
            "Epoch 35/100\n",
            "782/782 [==============================] - 1s 968us/step - loss: 0.0041\n",
            "Epoch 36/100\n",
            "782/782 [==============================] - 1s 924us/step - loss: 0.0040\n",
            "Epoch 37/100\n",
            "782/782 [==============================] - 1s 966us/step - loss: 0.0040\n",
            "Epoch 38/100\n",
            "782/782 [==============================] - 1s 939us/step - loss: 0.0040\n",
            "Epoch 39/100\n",
            "782/782 [==============================] - 1s 963us/step - loss: 0.0040\n",
            "Epoch 40/100\n",
            "782/782 [==============================] - 1s 923us/step - loss: 0.0040\n",
            "Epoch 41/100\n",
            "782/782 [==============================] - 1s 958us/step - loss: 0.0040\n",
            "Epoch 42/100\n",
            "782/782 [==============================] - 1s 947us/step - loss: 0.0040\n",
            "Epoch 43/100\n",
            "782/782 [==============================] - 1s 957us/step - loss: 0.0039\n",
            "Epoch 44/100\n",
            "782/782 [==============================] - 1s 949us/step - loss: 0.0039\n",
            "Epoch 45/100\n",
            "782/782 [==============================] - 1s 931us/step - loss: 0.0039\n",
            "Epoch 46/100\n",
            "782/782 [==============================] - 1s 991us/step - loss: 0.0038\n",
            "Epoch 47/100\n",
            "782/782 [==============================] - 1s 979us/step - loss: 0.0038\n",
            "Epoch 48/100\n",
            "782/782 [==============================] - 1s 941us/step - loss: 0.0038\n",
            "Epoch 49/100\n",
            "782/782 [==============================] - 1s 954us/step - loss: 0.0038\n",
            "Epoch 50/100\n",
            "782/782 [==============================] - 1s 942us/step - loss: 0.0038\n",
            "Epoch 51/100\n",
            "782/782 [==============================] - 1s 956us/step - loss: 0.0038\n",
            "Epoch 52/100\n",
            "782/782 [==============================] - 1s 958us/step - loss: 0.0038\n",
            "Epoch 53/100\n",
            "782/782 [==============================] - 1s 922us/step - loss: 0.0038\n",
            "Epoch 54/100\n",
            "782/782 [==============================] - 1s 958us/step - loss: 0.0038\n",
            "Epoch 55/100\n",
            "782/782 [==============================] - 1s 959us/step - loss: 0.0038\n",
            "Epoch 56/100\n",
            "782/782 [==============================] - 2s 2ms/step - loss: 0.0038\n",
            "Epoch 57/100\n",
            "782/782 [==============================] - 1s 1ms/step - loss: 0.0038\n",
            "Epoch 58/100\n",
            "782/782 [==============================] - 1s 1ms/step - loss: 0.0038\n",
            "Epoch 59/100\n",
            "782/782 [==============================] - 1s 1ms/step - loss: 0.0037\n",
            "Epoch 60/100\n",
            "782/782 [==============================] - 1s 1ms/step - loss: 0.0037\n",
            "Epoch 61/100\n",
            "782/782 [==============================] - 1s 2ms/step - loss: 0.0037\n",
            "Epoch 62/100\n",
            "782/782 [==============================] - 1s 1ms/step - loss: 0.0037\n",
            "Epoch 63/100\n",
            "782/782 [==============================] - 1s 2ms/step - loss: 0.0050\n",
            "Epoch 64/100\n",
            "782/782 [==============================] - 1s 1ms/step - loss: 0.0084\n",
            "Epoch 65/100\n",
            "782/782 [==============================] - 1s 1ms/step - loss: 0.0089\n",
            "Epoch 66/100\n",
            "782/782 [==============================] - 1s 2ms/step - loss: 0.0086\n",
            "Epoch 67/100\n",
            "782/782 [==============================] - 1s 2ms/step - loss: 0.0077\n",
            "Epoch 68/100\n",
            "782/782 [==============================] - 1s 2ms/step - loss: 0.0069\n",
            "Epoch 69/100\n",
            "782/782 [==============================] - 1s 952us/step - loss: 0.0062\n",
            "Epoch 70/100\n",
            "782/782 [==============================] - 1s 957us/step - loss: 0.0060\n",
            "Epoch 71/100\n",
            "782/782 [==============================] - 1s 943us/step - loss: 0.0051\n",
            "Epoch 72/100\n",
            "782/782 [==============================] - 1s 953us/step - loss: 0.0042\n",
            "Epoch 73/100\n",
            "782/782 [==============================] - 1s 989us/step - loss: 0.0039\n",
            "Epoch 74/100\n",
            "782/782 [==============================] - 1s 930us/step - loss: 0.0037\n",
            "Epoch 75/100\n",
            "782/782 [==============================] - 1s 948us/step - loss: 0.0037\n",
            "Epoch 76/100\n",
            "782/782 [==============================] - 1s 935us/step - loss: 0.0036\n",
            "Epoch 77/100\n",
            "782/782 [==============================] - 1s 1ms/step - loss: 0.0036\n",
            "Epoch 78/100\n",
            "782/782 [==============================] - 1s 2ms/step - loss: 0.0036\n",
            "Epoch 79/100\n",
            "782/782 [==============================] - 2s 3ms/step - loss: 0.0036\n",
            "Epoch 80/100\n",
            "782/782 [==============================] - 2s 3ms/step - loss: 0.0036\n",
            "Epoch 81/100\n",
            "782/782 [==============================] - 2s 2ms/step - loss: 0.0036\n",
            "Epoch 82/100\n",
            "782/782 [==============================] - 2s 2ms/step - loss: 0.0036\n",
            "Epoch 83/100\n",
            "782/782 [==============================] - 1s 2ms/step - loss: 0.0036\n",
            "Epoch 84/100\n",
            "782/782 [==============================] - 2s 2ms/step - loss: 0.0035\n",
            "Epoch 85/100\n",
            "782/782 [==============================] - 2s 2ms/step - loss: 0.0035\n",
            "Epoch 86/100\n",
            "782/782 [==============================] - 2s 2ms/step - loss: 0.0035\n",
            "Epoch 87/100\n",
            "782/782 [==============================] - 1s 1ms/step - loss: 0.0035\n",
            "Epoch 88/100\n",
            "782/782 [==============================] - 1s 999us/step - loss: 0.0035\n",
            "Epoch 89/100\n",
            "782/782 [==============================] - 2s 2ms/step - loss: 0.0035\n",
            "Epoch 90/100\n",
            "782/782 [==============================] - 1s 2ms/step - loss: 0.0034\n",
            "Epoch 91/100\n",
            "782/782 [==============================] - 1s 1ms/step - loss: 0.0034\n",
            "Epoch 92/100\n",
            "782/782 [==============================] - 1s 1ms/step - loss: 0.0034\n",
            "Epoch 93/100\n",
            "782/782 [==============================] - 1s 932us/step - loss: 0.0034\n",
            "Epoch 94/100\n",
            "782/782 [==============================] - 1s 932us/step - loss: 0.0034\n",
            "Epoch 95/100\n",
            "782/782 [==============================] - 1s 942us/step - loss: 0.0033\n",
            "Epoch 96/100\n",
            "782/782 [==============================] - 1s 955us/step - loss: 0.0033\n",
            "Epoch 97/100\n",
            "782/782 [==============================] - 1s 1ms/step - loss: 0.0033\n",
            "Epoch 98/100\n",
            "782/782 [==============================] - 1s 955us/step - loss: 0.0033\n",
            "Epoch 99/100\n",
            "782/782 [==============================] - 1s 963us/step - loss: 0.0033\n",
            "Epoch 100/100\n",
            "782/782 [==============================] - 1s 943us/step - loss: 0.0033\n"
          ]
        }
      ]
    },
    {
      "cell_type": "code",
      "source": [
        "model_adam.compile(loss='mse', optimizer=keras.optimizers.Adam())\n",
        "model_adam_history = model_adam.fit(X, y, epochs=100, verbose=0)"
      ],
      "metadata": {
        "id": "2Biil2M7dW2s"
      },
      "execution_count": 23,
      "outputs": []
    },
    {
      "cell_type": "code",
      "source": [
        "import matplotlib.pyplot as plt\n",
        "plt.figure(figsize=(18, 7))\n",
        "plt.plot(range(1,101), model_sgd_history.history['loss'], label='SGD')\n",
        "plt.plot(range(1,101), model_sgd_momentum_history.history['loss'], label='SGD_mom')\n",
        "plt.plot(range(1,101), model_adam_history.history['loss'], label='Adam')\n",
        "plt.legend()\n",
        "plt.show()"
      ],
      "metadata": {
        "id": "dcp86G8NbqRL",
        "outputId": "1a0ec55f-a6a3-4a7f-b7aa-f642ac61f917",
        "colab": {
          "base_uri": "https://localhost:8080/",
          "height": 428
        }
      },
      "execution_count": 25,
      "outputs": [
        {
          "output_type": "display_data",
          "data": {
            "text/plain": [
              "<Figure size 1296x504 with 1 Axes>"
            ],
            "image/png": "[encoded data removed]"
          },
          "metadata": {
            "needs_background": "light"
          }
        }
      ]
    },
    {
      "cell_type": "code",
      "source": [
        "min(model_adam_history.history['loss']), min(model_sgd_history.history['loss']), min(model_sgd_momentum_history.history['loss'])"
      ],
      "metadata": {
        "id": "e0QJS1CRcpFw",
        "outputId": "be6565a2-bc79-4889-91a4-76e5edd45028",
        "colab": {
          "base_uri": "https://localhost:8080/"
        }
      },
      "execution_count": 29,
      "outputs": [
        {
          "output_type": "execute_result",
          "data": {
            "text/plain": [
              "(0.0036839968524873257, 0.006750817876309156, 0.0032859966158866882)"
            ]
          },
          "metadata": {},
          "execution_count": 29
        }
      ]
    },
    {
      "cell_type": "code",
      "source": [],
      "metadata": {
        "id": "RJJgKACUiHe0"
      },
      "execution_count": null,
      "outputs": []
    }
  ]
}